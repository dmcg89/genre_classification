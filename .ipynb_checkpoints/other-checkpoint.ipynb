{
 "cells": [
  {
   "cell_type": "code",
   "execution_count": 1,
   "metadata": {},
   "outputs": [
    {
     "name": "stdout",
     "output_type": "stream",
     "text": [
      "Downloading data from https://storage.googleapis.com/tensorflow/tf-keras-datasets/mnist.npz\n",
      "11493376/11490434 [==============================] - 3s 0us/step\n",
      "train data dim: (60000, 28, 28)\n",
      "test data dim: (10000, 28, 28)\n",
      "test label dim: (10000,)\n",
      "max of training data: 255\n"
     ]
    }
   ],
   "source": [
    "import numpy as np\n",
    "from tensorflow.keras.datasets import mnist\n",
    "from tensorflow.keras.layers import Dense\n",
    "from tensorflow.keras.models import Sequential\n",
    "from tensorflow.keras import utils\n",
    "from tensorflow.keras.optimizers import SGD\n",
    "\n",
    "(x_train, y_train), (x_test, y_test) = mnist.load_data()\n",
    "\n",
    "print('train data dim:', x_train.shape)\n",
    "print('test data dim:', x_test.shape)\n",
    "print('test label dim:', y_test.shape)\n",
    "\n",
    "print('max of training data:', np.max(x_train))"
   ]
  },
  {
   "cell_type": "code",
   "execution_count": 2,
   "metadata": {},
   "outputs": [],
   "source": [
    "# Reshaping and normalizing data\n",
    "\n",
    "# Max pixel value is 255\n",
    "x_train = np.reshape(x_train, [-1, 28*28])\n",
    "x_test = np.reshape(x_test, [-1, 28*28])\n",
    "x_train = x_train / 255\n",
    "x_test = x_test / 255\n",
    "\n",
    "# Number of classes is 10 (arabic numerals 0 through 9)\n",
    "y_train = utils.to_categorical(y_train, 10)\n",
    "y_test = utils.to_categorical(y_test, 10)"
   ]
  },
  {
   "cell_type": "code",
   "execution_count": 3,
   "metadata": {},
   "outputs": [
    {
     "name": "stdout",
     "output_type": "stream",
     "text": [
      "(60000, 10)\n"
     ]
    }
   ],
   "source": [
    "print(y_train.shape)"
   ]
  },
  {
   "cell_type": "code",
   "execution_count": 13,
   "metadata": {},
   "outputs": [
    {
     "name": "stdout",
     "output_type": "stream",
     "text": [
      " train input: (60000, 784)\n",
      " test_input: (10000, 784)\n",
      "_______________________________\n",
      " train labels: (60000, 10)\n",
      " test_labels: (10000, 10)\n",
      "784\n"
     ]
    }
   ],
   "source": [
    "print(f' train input: {x_train.shape}')\n",
    "print(f' test_input: {x_test.shape}')\n",
    "print('_______________________________')\n",
    "print(f' train labels: {y_train.shape}')\n",
    "print(f' test_labels: {y_test.shape}')\n",
    "\n",
    "print(28*28)"
   ]
  },
  {
   "cell_type": "code",
   "execution_count": 14,
   "metadata": {},
   "outputs": [],
   "source": [
    "# Defining our MLP model\n",
    "\n",
    "model = Sequential()\n",
    "\n",
    "model.add(Dense(512, input_shape=(784,), activation='relu'))\n",
    "model.add(Dense(512, activation='relu'))\n",
    "model.add(Dense(10, activation='softmax'))"
   ]
  },
  {
   "cell_type": "code",
   "execution_count": 15,
   "metadata": {},
   "outputs": [
    {
     "name": "stdout",
     "output_type": "stream",
     "text": [
      "Model: \"sequential_2\"\n",
      "_________________________________________________________________\n",
      "Layer (type)                 Output Shape              Param #   \n",
      "=================================================================\n",
      "dense_6 (Dense)              (None, 512)               401920    \n",
      "_________________________________________________________________\n",
      "dense_7 (Dense)              (None, 512)               262656    \n",
      "_________________________________________________________________\n",
      "dense_8 (Dense)              (None, 10)                5130      \n",
      "=================================================================\n",
      "Total params: 669,706\n",
      "Trainable params: 669,706\n",
      "Non-trainable params: 0\n",
      "_________________________________________________________________\n",
      "None\n"
     ]
    }
   ],
   "source": [
    "sgd = SGD(lr=0.01)\n",
    "model.compile(loss='categorical_crossentropy',\n",
    "             optimizer=sgd,\n",
    "             metrics=['accuracy'])\n",
    "print(model.summary())\n"
   ]
  },
  {
   "cell_type": "code",
   "execution_count": 16,
   "metadata": {},
   "outputs": [
    {
     "name": "stdout",
     "output_type": "stream",
     "text": [
      "Train on 60000 samples, validate on 10000 samples\n",
      "Epoch 1/10\n",
      "60000/60000 [==============================] - 9s 142us/sample - loss: 0.5676 - accuracy: 0.8583 - val_loss: 0.2937 - val_accuracy: 0.9199\n",
      "Epoch 2/10\n",
      "60000/60000 [==============================] - 9s 143us/sample - loss: 0.2728 - accuracy: 0.9230 - val_loss: 0.2307 - val_accuracy: 0.9338\n",
      "Epoch 3/10\n",
      "60000/60000 [==============================] - 9s 151us/sample - loss: 0.2228 - accuracy: 0.9370 - val_loss: 0.1974 - val_accuracy: 0.9427\n",
      "Epoch 4/10\n",
      "60000/60000 [==============================] - 9s 157us/sample - loss: 0.1886 - accuracy: 0.9469 - val_loss: 0.1776 - val_accuracy: 0.9494\n",
      "Epoch 5/10\n",
      "60000/60000 [==============================] - 10s 163us/sample - loss: 0.1631 - accuracy: 0.9536 - val_loss: 0.1500 - val_accuracy: 0.9569\n",
      "Epoch 6/10\n",
      "60000/60000 [==============================] - 10s 169us/sample - loss: 0.1436 - accuracy: 0.9595 - val_loss: 0.1358 - val_accuracy: 0.9600\n",
      "Epoch 7/10\n",
      "60000/60000 [==============================] - 10s 171us/sample - loss: 0.1277 - accuracy: 0.9641 - val_loss: 0.1259 - val_accuracy: 0.9624\n",
      "Epoch 8/10\n",
      "60000/60000 [==============================] - 11s 182us/sample - loss: 0.1145 - accuracy: 0.9676 - val_loss: 0.1128 - val_accuracy: 0.9669\n",
      "Epoch 9/10\n",
      "60000/60000 [==============================] - 10s 166us/sample - loss: 0.1038 - accuracy: 0.9709 - val_loss: 0.1043 - val_accuracy: 0.9682\n",
      "Epoch 10/10\n",
      "60000/60000 [==============================] - 10s 160us/sample - loss: 0.0941 - accuracy: 0.9737 - val_loss: 0.1000 - val_accuracy: 0.9695\n"
     ]
    }
   ],
   "source": [
    "# Training the model\n",
    "history = model.fit(x=x_train, y=y_train,\n",
    "                   batch_size = 32,\n",
    "                   epochs = 10,\n",
    "                   verbose = 1,\n",
    "                   validation_data=(x_test, y_test))"
   ]
  },
  {
   "cell_type": "code",
   "execution_count": null,
   "metadata": {},
   "outputs": [],
   "source": []
  }
 ],
 "metadata": {
  "kernelspec": {
   "display_name": "Python 3",
   "language": "python",
   "name": "python3"
  },
  "language_info": {
   "codemirror_mode": {
    "name": "ipython",
    "version": 3
   },
   "file_extension": ".py",
   "mimetype": "text/x-python",
   "name": "python",
   "nbconvert_exporter": "python",
   "pygments_lexer": "ipython3",
   "version": "3.7.4"
  }
 },
 "nbformat": 4,
 "nbformat_minor": 2
}
